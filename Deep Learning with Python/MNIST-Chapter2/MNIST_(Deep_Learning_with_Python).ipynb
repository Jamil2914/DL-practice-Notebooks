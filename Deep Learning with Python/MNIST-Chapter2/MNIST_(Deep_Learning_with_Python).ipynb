{
  "nbformat": 4,
  "nbformat_minor": 0,
  "metadata": {
    "colab": {
      "name": "MNIST_(Deep_Learning_with_Python).ipynb",
      "provenance": []
    },
    "kernelspec": {
      "name": "python3",
      "display_name": "Python 3"
    },
    "language_info": {
      "name": "python"
    }
  },
  "cells": [
    {
      "cell_type": "markdown",
      "source": [
        "# **Importing Libraries**"
      ],
      "metadata": {
        "id": "nzO75V5EGjL7"
      }
    },
    {
      "cell_type": "code",
      "execution_count": 1,
      "metadata": {
        "id": "5QGNuJo7Blxy"
      },
      "outputs": [],
      "source": [
        "from tensorflow.keras.datasets import mnist"
      ]
    },
    {
      "cell_type": "markdown",
      "source": [
        "# **Loading Data**"
      ],
      "metadata": {
        "id": "kbuln8cAGqLr"
      }
    },
    {
      "cell_type": "code",
      "source": [
        "(train_images, train_labels) , (test_images, test_labels) = mnist.load_data() "
      ],
      "metadata": {
        "colab": {
          "base_uri": "https://localhost:8080/"
        },
        "id": "Vg_xLQwjzzHR",
        "outputId": "37232f69-8e32-4995-f36d-7a03936f66db"
      },
      "execution_count": 2,
      "outputs": [
        {
          "output_type": "stream",
          "name": "stdout",
          "text": [
            "Downloading data from https://storage.googleapis.com/tensorflow/tf-keras-datasets/mnist.npz\n",
            "11493376/11490434 [==============================] - 0s 0us/step\n",
            "11501568/11490434 [==============================] - 0s 0us/step\n"
          ]
        }
      ]
    },
    {
      "cell_type": "code",
      "source": [
        "train_images.shape , train_labels.shape , test_images.shape , test_labels.shape"
      ],
      "metadata": {
        "colab": {
          "base_uri": "https://localhost:8080/"
        },
        "id": "B8tNbFbi0JsV",
        "outputId": "febe36c3-38bf-4420-ab45-a146b35f1558"
      },
      "execution_count": 3,
      "outputs": [
        {
          "output_type": "execute_result",
          "data": {
            "text/plain": [
              "((60000, 28, 28), (60000,), (10000, 28, 28), (10000,))"
            ]
          },
          "metadata": {},
          "execution_count": 3
        }
      ]
    },
    {
      "cell_type": "code",
      "source": [
        "from keras import models\n",
        "from keras import layers"
      ],
      "metadata": {
        "id": "fK7IAyDK8fzg"
      },
      "execution_count": 4,
      "outputs": []
    },
    {
      "cell_type": "markdown",
      "source": [
        "# **Building the Model Section**"
      ],
      "metadata": {
        "id": "zqglY5tmGxq9"
      }
    },
    {
      "cell_type": "code",
      "source": [
        "model = models.Sequential()\n",
        "model.add(layers.Dense(512,activation = 'relu',input_shape = (28*28,)))\n",
        "model.add(layers.Dense(10,activation = 'softmax'))"
      ],
      "metadata": {
        "id": "KHOfrSKc8rgD"
      },
      "execution_count": 5,
      "outputs": []
    },
    {
      "cell_type": "markdown",
      "source": [
        "# **Compiling the model before training**"
      ],
      "metadata": {
        "id": "61Rx2624G1UT"
      }
    },
    {
      "cell_type": "code",
      "source": [
        "\n",
        "model.compile(optimizer='rmsprop',\n",
        "              loss = 'sparse_categorical_crossentropy',\n",
        "              metrics = ['accuracy'])\n"
      ],
      "metadata": {
        "id": "OJDozu_z9RaO"
      },
      "execution_count": 10,
      "outputs": []
    },
    {
      "cell_type": "markdown",
      "source": [
        "# **Reshaping Train Images**"
      ],
      "metadata": {
        "id": "P1gJ2EQAG8nu"
      }
    },
    {
      "cell_type": "code",
      "source": [
        "train_images = train_images.reshape((60000,28*28))\n",
        "train_images = train_images.astype('float32')/255"
      ],
      "metadata": {
        "id": "2oKuuAY1-PmS"
      },
      "execution_count": 12,
      "outputs": []
    },
    {
      "cell_type": "markdown",
      "source": [
        "# **Reshaping Test Images**"
      ],
      "metadata": {
        "id": "eWld74uKHBD8"
      }
    },
    {
      "cell_type": "code",
      "source": [
        "test_images = test_images.reshape((10000,28*28))\n",
        "test_images = test_images.astype('float32')/255"
      ],
      "metadata": {
        "id": "urBmwfEi-i4P"
      },
      "execution_count": 13,
      "outputs": []
    },
    {
      "cell_type": "markdown",
      "source": [
        "# **Training the Model**"
      ],
      "metadata": {
        "id": "2cISOtPtHFLQ"
      }
    },
    {
      "cell_type": "code",
      "source": [
        "result=model.fit(train_images,train_labels,batch_size=128,epochs=10)"
      ],
      "metadata": {
        "colab": {
          "base_uri": "https://localhost:8080/"
        },
        "id": "iMSyKs2f-pDW",
        "outputId": "a5f567c1-a6f4-46bf-ec47-6955f80fa8cc"
      },
      "execution_count": 17,
      "outputs": [
        {
          "output_type": "stream",
          "name": "stdout",
          "text": [
            "Epoch 1/10\n",
            "469/469 [==============================] - 5s 12ms/step - loss: 0.1154 - accuracy: 0.9674\n",
            "Epoch 2/10\n",
            "469/469 [==============================] - 5s 11ms/step - loss: 0.1118 - accuracy: 0.9684\n",
            "Epoch 3/10\n",
            "469/469 [==============================] - 5s 11ms/step - loss: 0.1083 - accuracy: 0.9697\n",
            "Epoch 4/10\n",
            "469/469 [==============================] - 5s 11ms/step - loss: 0.1050 - accuracy: 0.9706\n",
            "Epoch 5/10\n",
            "469/469 [==============================] - 5s 11ms/step - loss: 0.1022 - accuracy: 0.9710\n",
            "Epoch 6/10\n",
            "469/469 [==============================] - 5s 11ms/step - loss: 0.0992 - accuracy: 0.9717\n",
            "Epoch 7/10\n",
            "469/469 [==============================] - 5s 11ms/step - loss: 0.0965 - accuracy: 0.9728\n",
            "Epoch 8/10\n",
            "469/469 [==============================] - 5s 11ms/step - loss: 0.0935 - accuracy: 0.9736\n",
            "Epoch 9/10\n",
            "469/469 [==============================] - 5s 11ms/step - loss: 0.0910 - accuracy: 0.9742\n",
            "Epoch 10/10\n",
            "469/469 [==============================] - 5s 11ms/step - loss: 0.0886 - accuracy: 0.9752\n"
          ]
        }
      ]
    },
    {
      "cell_type": "markdown",
      "source": [
        "# Plotting the Graph"
      ],
      "metadata": {
        "id": "0IPk7g7DHKCy"
      }
    },
    {
      "cell_type": "code",
      "execution_count": 19,
      "metadata": {
        "colab": {
          "base_uri": "https://localhost:8080/",
          "height": 338
        },
        "id": "tNIFRzOvp1yA",
        "outputId": "e2c0a76d-c764-486f-8e4f-5e74e378482c"
      },
      "outputs": [
        {
          "output_type": "display_data",
          "data": {
            "text/plain": [
              "<Figure size 1080x360 with 2 Axes>"
            ],
            "image/png": "[encoded data removed]"
          },
          "metadata": {
            "needs_background": "light"
          }
        }
      ],
      "source": [
        "#Plot the accuracy and loss graphs\n",
        "\n",
        "import matplotlib.pyplot as plt\n",
        "\n",
        "\n",
        "def plot_acc_loss(result, epochs):\n",
        "    acc = result.history['accuracy']\n",
        "    loss = result.history['loss']\n",
        "    #val_acc = result.history['val_accuracy']\n",
        "    #val_loss = result.history['val_loss']\n",
        "    plt.figure(figsize=(15, 5))\n",
        "    plt.subplot(121)\n",
        "    # plt.plot(range(1,epochs), acc[1:], label='Train_accuracy')\n",
        "    # plt.plot(range(1,epochs), val_acc[1:], label='Val_accuracy')\n",
        "    plt.plot(acc, label='Train_accuracy')\n",
        "    #plt.plot(val_acc, label='Val_accuracy')\n",
        "\n",
        "\n",
        "    plt.title('Accuracy over ' + str(epochs) + ' Epochs', size=15)\n",
        "    plt.legend()\n",
        "    plt.grid(True)\n",
        "    plt.subplot(122)\n",
        "    # plt.plot(range(1,epochs), loss[1:], label='Train_loss')\n",
        "    # plt.plot(range(1,epochs), val_loss[1:], label='Val_loss')\n",
        "    plt.plot(loss, label='Train_loss')\n",
        "    #plt.plot(val_loss, label='Val_loss')\n",
        "\n",
        "\n",
        "    plt.title('Loss over ' + str(epochs) + ' Epochs', size=15)\n",
        "    plt.legend()\n",
        "    plt.grid(True)\n",
        "    plt.show()\n",
        "    \n",
        "plot_acc_loss(result, 10)"
      ]
    },
    {
      "cell_type": "code",
      "source": [
        "model.summary()"
      ],
      "metadata": {
        "colab": {
          "base_uri": "https://localhost:8080/"
        },
        "id": "La9ji3OtFIPN",
        "outputId": "ead78e60-a834-4123-98b0-ff1f91c0ea7a"
      },
      "execution_count": 20,
      "outputs": [
        {
          "output_type": "stream",
          "name": "stdout",
          "text": [
            "Model: \"sequential\"\n",
            "_________________________________________________________________\n",
            " Layer (type)                Output Shape              Param #   \n",
            "=================================================================\n",
            " dense (Dense)               (None, 512)               401920    \n",
            "                                                                 \n",
            " dense_1 (Dense)             (None, 10)                5130      \n",
            "                                                                 \n",
            "=================================================================\n",
            "Total params: 407,050\n",
            "Trainable params: 407,050\n",
            "Non-trainable params: 0\n",
            "_________________________________________________________________\n"
          ]
        }
      ]
    },
    {
      "cell_type": "code",
      "source": [
        "model.evaluate(test_images,test_labels)"
      ],
      "metadata": {
        "colab": {
          "base_uri": "https://localhost:8080/"
        },
        "id": "5qY5NSvlFsMC",
        "outputId": "aaea7db6-2cbd-42d1-dc23-8ed9033c3831"
      },
      "execution_count": 21,
      "outputs": [
        {
          "output_type": "stream",
          "name": "stdout",
          "text": [
            "313/313 [==============================] - 1s 4ms/step - loss: 0.1060 - accuracy: 0.9697\n"
          ]
        },
        {
          "output_type": "execute_result",
          "data": {
            "text/plain": [
              "[0.10597169399261475, 0.9696999788284302]"
            ]
          },
          "metadata": {},
          "execution_count": 21
        }
      ]
    },
    {
      "cell_type": "code",
      "source": [
        "train_labels[0]"
      ],
      "metadata": {
        "colab": {
          "base_uri": "https://localhost:8080/"
        },
        "id": "dkagbVJzF7Ra",
        "outputId": "12cfaf26-b9ee-4ceb-f8e3-a0c658b984fb"
      },
      "execution_count": 22,
      "outputs": [
        {
          "output_type": "execute_result",
          "data": {
            "text/plain": [
              "5"
            ]
          },
          "metadata": {},
          "execution_count": 22
        }
      ]
    },
    {
      "cell_type": "code",
      "source": [
        "test_labels[0]"
      ],
      "metadata": {
        "colab": {
          "base_uri": "https://localhost:8080/"
        },
        "id": "lG9S0SLtGHHd",
        "outputId": "65917006-ef90-423b-eeff-208301b7c687"
      },
      "execution_count": 23,
      "outputs": [
        {
          "output_type": "execute_result",
          "data": {
            "text/plain": [
              "7"
            ]
          },
          "metadata": {},
          "execution_count": 23
        }
      ]
    },
    {
      "cell_type": "code",
      "source": [
        "model.predict(test_images)"
      ],
      "metadata": {
        "colab": {
          "base_uri": "https://localhost:8080/"
        },
        "id": "HK9HC3fVGJUc",
        "outputId": "b3fc5321-0d71-4549-d665-553023911eda"
      },
      "execution_count": 24,
      "outputs": [
        {
          "output_type": "execute_result",
          "data": {
            "text/plain": [
              "array([[3.5668047e-06, 6.3867599e-11, 3.5726214e-05, ..., 9.9898773e-01,\n",
              "        3.3007377e-06, 3.9842285e-05],\n",
              "       [1.9125617e-05, 3.9818653e-05, 9.9948609e-01, ..., 5.9140412e-15,\n",
              "        2.8957018e-06, 5.1721679e-16],\n",
              "       [2.1284052e-06, 9.9293184e-01, 1.3458814e-03, ..., 1.5900551e-03,\n",
              "        1.9039243e-03, 9.1347014e-05],\n",
              "       ...,\n",
              "       [5.9540223e-10, 2.0502662e-10, 8.0611295e-09, ..., 1.5436875e-05,\n",
              "        2.3995091e-04, 1.0890443e-03],\n",
              "       [8.5930814e-08, 2.0443757e-07, 1.9428683e-09, ..., 2.3961584e-09,\n",
              "        2.4554032e-04, 4.0358299e-09],\n",
              "       [1.4231482e-06, 2.8401923e-13, 1.1445726e-06, ..., 1.3208076e-12,\n",
              "        3.6797820e-09, 4.1287248e-11]], dtype=float32)"
            ]
          },
          "metadata": {},
          "execution_count": 24
        }
      ]
    },
    {
      "cell_type": "code",
      "source": [
        ""
      ],
      "metadata": {
        "id": "wi7kjzxsGW_3"
      },
      "execution_count": null,
      "outputs": []
    }
  ]
}